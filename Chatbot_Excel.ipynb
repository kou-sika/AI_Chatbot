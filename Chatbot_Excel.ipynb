{
  "nbformat": 4,
  "nbformat_minor": 0,
  "metadata": {
    "colab": {
      "provenance": [],
      "authorship_tag": "ABX9TyOAsMwUTZUg+FziHU/Ockn7",
      "include_colab_link": true
    },
    "kernelspec": {
      "name": "python3",
      "display_name": "Python 3"
    },
    "language_info": {
      "name": "python"
    }
  },
  "cells": [
    {
      "cell_type": "markdown",
      "metadata": {
        "id": "view-in-github",
        "colab_type": "text"
      },
      "source": [
        "<a href=\"https://colab.research.google.com/github/kou-sika/AI_Chatbot/blob/main/Chatbot_Excel.ipynb\" target=\"_parent\"><img src=\"https://colab.research.google.com/assets/colab-badge.svg\" alt=\"Open In Colab\"/></a>"
      ]
    },
    {
      "cell_type": "code",
      "execution_count": null,
      "metadata": {
        "id": "dvwRz1heTye0"
      },
      "outputs": [],
      "source": [
        "import google.generativeai as genai\n",
        "import pandas as pd\n",
        "import time\n",
        "\n",
        "# Configure the API key\n",
        "genai.configure(api_key=\"Your Gemini_API_Key\")\n",
        "\n",
        "# Function to load and preview Excel data\n",
        "def load_excel_data(file_path):\n",
        "    # Load the Excel file into a DataFrame\n",
        "    data = pd.read_excel(file_path)\n",
        "    # Convert the entire DataFrame to a readable string format for the prompt\n",
        "    data_context = data.to_string(index=False)\n",
        "    return data_context\n",
        "\n",
        "# Function to send a request to the model\n",
        "def send_request(chat, context, question):\n",
        "    try:\n",
        "        # Combine context and question into a single prompt\n",
        "        prompt = f\"Here is the data:\\n\\n{context}\\n\\nQuestion: {question}\"\n",
        "        response = chat.send_message(prompt)\n",
        "        return response\n",
        "    except Exception as e:\n",
        "        print(\"Error occurred:\", e)\n",
        "        time.sleep(5)  # Wait before retrying\n",
        "        return None\n",
        "\n",
        "# Main function to load data and interact with multiple questions\n",
        "def interactive_ask_model_with_excel(file_path):\n",
        "    # Load Excel data and format it\n",
        "    data_context = load_excel_data(file_path)\n",
        "\n",
        "    # Start a chat with the model\n",
        "    model = genai.GenerativeModel(model_name=\"gemini-1.5-pro\")\n",
        "    chat = model.start_chat()\n",
        "\n",
        "    print(\"Interactive mode: Ask your questions about the Excel data. Type 'exit' to stop.\")\n",
        "\n",
        "    while True:\n",
        "        # Prompt the user to enter a question\n",
        "        question = input(\"\\nEnter your question: \")\n",
        "\n",
        "        # Check if the user wants to exit\n",
        "        if question.lower() == 'exit':\n",
        "            print(\"Ending the session.\")\n",
        "            break\n",
        "\n",
        "        # Send the request with the data context and question\n",
        "        response = send_request(chat, data_context, question)\n",
        "\n",
        "        if response:\n",
        "            # Extract and print the answer from the model's response\n",
        "            answer = response.candidates[0].content.parts[0].text\n",
        "            print(\"\\nAnswer:\", answer)\n",
        "        else:\n",
        "            print(\"No response received. Try again.\")\n",
        "\n",
        "# Example usage\n",
        "file_path = \"Your Excel_File\"  # Replace with the path to your Excel file\n",
        "interactive_ask_model_with_excel(file_path)\n"
      ]
    }
  ]
}